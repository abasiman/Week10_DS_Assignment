{
 "cells": [
  {
   "cell_type": "code",
   "execution_count": 1,
   "id": "0e578893-3482-4e31-8e62-7c3295d5ba07",
   "metadata": {},
   "outputs": [],
   "source": [
    "import pandas as pd\n",
    "from math import sqrt\n",
    "import numpy as np"
   ]
  },
  {
   "cell_type": "code",
   "execution_count": 19,
   "id": "e8a09e48-c25c-4b8a-8592-08886a37650f",
   "metadata": {},
   "outputs": [],
   "source": [
    "book_df=pd.read_csv(\"selected_books.csv\", low_memory=False)\n",
    "ratings_df=pd.read_csv('Ratings.csv', low_memory=False)"
   ]
  },
  {
   "cell_type": "code",
   "execution_count": 20,
   "id": "10a5f139-c8af-4756-a4b9-bfab82b1fe01",
   "metadata": {},
   "outputs": [
    {
     "name": "stdout",
     "output_type": "stream",
     "text": [
      "<class 'pandas.core.frame.DataFrame'>\n",
      "RangeIndex: 271360 entries, 0 to 271359\n",
      "Data columns (total 3 columns):\n",
      " #   Column               Non-Null Count   Dtype \n",
      "---  ------               --------------   ----- \n",
      " 0   ISBN                 271360 non-null  object\n",
      " 1   Book-Title           271360 non-null  object\n",
      " 2   Year-Of-Publication  271360 non-null  object\n",
      "dtypes: object(3)\n",
      "memory usage: 6.2+ MB\n"
     ]
    }
   ],
   "source": [
    "book_df.info()"
   ]
  },
  {
   "cell_type": "code",
   "execution_count": 21,
   "id": "d65563fd-cfb4-46e9-82b5-08cd7cf9fc03",
   "metadata": {},
   "outputs": [
    {
     "data": {
      "text/plain": [
       "Book-Title\n",
       "Selected Poems                                                                27\n",
       "Little Women                                                                  24\n",
       "Wuthering Heights                                                             21\n",
       "Dracula                                                                       20\n",
       "Adventures of Huckleberry Finn                                                20\n",
       "                                                                              ..\n",
       "Rob Roy (Penguin Classics)                                                     1\n",
       "Kids Who Laugh : How to Develop Your Child's Sense of Humor                    1\n",
       "Sacred Self, Sacred Relationships: Healing the World for Seven Generations     1\n",
       "Consenting Adults: Or, the Duchess Will Be Furious : A Novel                   1\n",
       "A Little Princess (Penguin Classics)                                           1\n",
       "Name: count, Length: 242135, dtype: int64"
      ]
     },
     "execution_count": 21,
     "metadata": {},
     "output_type": "execute_result"
    }
   ],
   "source": [
    "book_df['Book-Title'].value_counts()"
   ]
  },
  {
   "cell_type": "code",
   "execution_count": 22,
   "id": "8a8ab99e-ef55-45e8-aed6-4a07fb92c245",
   "metadata": {},
   "outputs": [
    {
     "data": {
      "text/html": [
       "<div>\n",
       "<style scoped>\n",
       "    .dataframe tbody tr th:only-of-type {\n",
       "        vertical-align: middle;\n",
       "    }\n",
       "\n",
       "    .dataframe tbody tr th {\n",
       "        vertical-align: top;\n",
       "    }\n",
       "\n",
       "    .dataframe thead th {\n",
       "        text-align: right;\n",
       "    }\n",
       "</style>\n",
       "<table border=\"1\" class=\"dataframe\">\n",
       "  <thead>\n",
       "    <tr style=\"text-align: right;\">\n",
       "      <th></th>\n",
       "      <th>Book-Title</th>\n",
       "      <th>Book-Rating</th>\n",
       "    </tr>\n",
       "  </thead>\n",
       "  <tbody>\n",
       "    <tr>\n",
       "      <th>0</th>\n",
       "      <td>Decision in Normandy</td>\n",
       "      <td>2.0</td>\n",
       "    </tr>\n",
       "    <tr>\n",
       "      <th>1</th>\n",
       "      <td>Nights Below Station Street</td>\n",
       "      <td>5.0</td>\n",
       "    </tr>\n",
       "    <tr>\n",
       "      <th>2</th>\n",
       "      <td>Beloved (Plume Contemporary Fiction)</td>\n",
       "      <td>5.0</td>\n",
       "    </tr>\n",
       "    <tr>\n",
       "      <th>3</th>\n",
       "      <td>Goodbye to the Buttermilk Sky</td>\n",
       "      <td>5.0</td>\n",
       "    </tr>\n",
       "    <tr>\n",
       "      <th>4</th>\n",
       "      <td>Petite histoire de la dÃ?Â©sinformation</td>\n",
       "      <td>4.3</td>\n",
       "    </tr>\n",
       "    <tr>\n",
       "      <th>5</th>\n",
       "      <td>The Middle Stories</td>\n",
       "      <td>6.0</td>\n",
       "    </tr>\n",
       "    <tr>\n",
       "      <th>6</th>\n",
       "      <td>Flashpoints: Promise and Peril in a New World</td>\n",
       "      <td>6.3</td>\n",
       "    </tr>\n",
       "    <tr>\n",
       "      <th>7</th>\n",
       "      <td>The Witchfinder (Amos Walker Mystery Series)</td>\n",
       "      <td>3.0</td>\n",
       "    </tr>\n",
       "    <tr>\n",
       "      <th>8</th>\n",
       "      <td>Anti Death League</td>\n",
       "      <td>4.5</td>\n",
       "    </tr>\n",
       "  </tbody>\n",
       "</table>\n",
       "</div>"
      ],
      "text/plain": [
       "                                      Book-Title  Book-Rating\n",
       "0                           Decision in Normandy          2.0\n",
       "1                    Nights Below Station Street          5.0\n",
       "2           Beloved (Plume Contemporary Fiction)          5.0\n",
       "3                  Goodbye to the Buttermilk Sky          5.0\n",
       "4        Petite histoire de la dÃ?Â©sinformation          4.3\n",
       "5                             The Middle Stories          6.0\n",
       "6  Flashpoints: Promise and Peril in a New World          6.3\n",
       "7   The Witchfinder (Amos Walker Mystery Series)          3.0\n",
       "8                              Anti Death League          4.5"
      ]
     },
     "execution_count": 22,
     "metadata": {},
     "output_type": "execute_result"
    }
   ],
   "source": [
    "userInput = [\n",
    "      \n",
    "             {'Book-Title':'Decision in Normandy', 'Book-Rating':2},\n",
    "             {'Book-Title':'Nights Below Station Street', 'Book-Rating':5},\n",
    "             {'Book-Title':'Beloved (Plume Contemporary Fiction)', 'Book-Rating':5},\n",
    "             {'Book-Title':'Goodbye to the Buttermilk Sky', 'Book-Rating':5},\n",
    "             {'Book-Title':'Petite histoire de la dÃ?Â©sinformation', 'Book-Rating':4.3},\n",
    "             {'Book-Title':'The Middle Stories', 'Book-Rating':6},\n",
    "             {'Book-Title':'Flashpoints: Promise and Peril in a New World', 'Book-Rating':6.3},\n",
    "             {'Book-Title':'The Witchfinder (Amos Walker Mystery Series)', 'Book-Rating':3},\n",
    "             {'Book-Title':'Anti Death League', 'Book-Rating':4.5},]\n",
    "inputBooks = pd.DataFrame(userInput)\n",
    "inputBooks"
   ]
  },
  {
   "cell_type": "code",
   "execution_count": 23,
   "id": "393ef343-a08d-4516-8fa8-83f5ead15a0f",
   "metadata": {},
   "outputs": [
    {
     "name": "stdout",
     "output_type": "stream",
     "text": [
      "         ISBN                                     Book-Title  Book-Rating\n",
      "0  0060973129                           Decision in Normandy          2.0\n",
      "1  0771074670                    Nights Below Station Street          5.0\n",
      "2  0887841740                             The Middle Stories          6.0\n",
      "3  1567407781   The Witchfinder (Amos Walker Mystery Series)          3.0\n",
      "4  1881320189                  Goodbye to the Buttermilk Sky          5.0\n",
      "5  0452264464           Beloved (Plume Contemporary Fiction)          5.0\n",
      "6  2268032019        Petite histoire de la dÃ?Â©sinformation          4.3\n",
      "7  014002803X                              Anti Death League          4.5\n",
      "8  0449906736  Flashpoints: Promise and Peril in a New World          6.3\n"
     ]
    }
   ],
   "source": [
    "inputId = book_df[book_df['Book-Title'].isin(inputBooks['Book-Title'].tolist())]\n",
    "inputBooks = pd.merge(inputId, inputBooks)\n",
    "inputBooks = inputBooks[['ISBN','Book-Title', 'Book-Rating']]\n",
    "print(inputBooks)"
   ]
  },
  {
   "cell_type": "code",
   "execution_count": 24,
   "id": "4e07ae5b-0371-4307-a07f-3da1470bbbed",
   "metadata": {},
   "outputs": [
    {
     "name": "stdout",
     "output_type": "stream",
     "text": [
      "            User-ID  Book-Rating\n",
      "ISBN                            \n",
      "0060973129        3            3\n",
      "014002803X        1            1\n",
      "0449906736        1            1\n",
      "0452264464      180          180\n",
      "0771074670        6            6\n",
      "0887841740        2            2\n",
      "1567407781        1            1\n",
      "1881320189        3            3\n"
     ]
    }
   ],
   "source": [
    "userSubset = ratings_df[ratings_df['ISBN'].isin(inputBooks['ISBN'].tolist())]\n",
    "print(userSubset.groupby('ISBN').count())"
   ]
  },
  {
   "cell_type": "code",
   "execution_count": 25,
   "id": "5c2c765b-b02f-4872-bebd-33fdd34fec28",
   "metadata": {},
   "outputs": [
    {
     "name": "stdout",
     "output_type": "stream",
     "text": [
      "[((8,),       User-ID        ISBN  Book-Rating\n",
      "9564        8  0060973129            0\n",
      "9573        8  0771074670            0\n",
      "9575        8  0887841740            5\n",
      "9578        8  1567407781            6\n",
      "9580        8  1881320189            7), ((11676,),        User-ID        ISBN  Book-Rating\n",
      "50879    11676  0452264464            8\n",
      "54043    11676  0771074670            0), ((9,),       User-ID        ISBN  Book-Rating\n",
      "9582        9  0452264464            6), ((2954,),        User-ID        ISBN  Book-Rating\n",
      "16919     2954  0060973129            8), ((3373,),        User-ID        ISBN  Book-Rating\n",
      "18928     3373  0452264464           10), ((4781,),        User-ID        ISBN  Book-Rating\n",
      "22471     4781  0452264464            0), ((5555,),        User-ID        ISBN  Book-Rating\n",
      "23951     5555  0452264464            9), ((6026,),        User-ID        ISBN  Book-Rating\n",
      "25093     6026  0452264464            0)]\n"
     ]
    }
   ],
   "source": [
    "userSubsetGroup = userSubset.groupby(['User-ID'])\n",
    "\n",
    "def take_5_elem(x):\n",
    "    return len(x[1])\n",
    "    \n",
    "userSubsetGroup = sorted(userSubsetGroup, key=take_5_elem, reverse=True)\n",
    "\n",
    "userSubsetGroup = userSubsetGroup[0:100]\n",
    "print(userSubsetGroup[0:8])\n"
   ]
  },
  {
   "cell_type": "code",
   "execution_count": 26,
   "id": "2b1e72b8-108a-4804-8611-587b5b505b90",
   "metadata": {},
   "outputs": [],
   "source": [
    "#Store the Pearson Correlation in a dictionary, where the key is the user Id and the value is the coefficient\n",
    "pearsonCorrelationDict = {}\n",
    "\n",
    "#For every user group in our subset\n",
    "for name, group in userSubsetGroup:\n",
    "\n",
    "    #Let's start by sorting the input and current user group so the values aren't mixed up later on\n",
    "    group = group.sort_values(by='ISBN')\n",
    "    inputBooks = inputBooks.sort_values(by='ISBN')\n",
    "\n",
    "    #Get the N for the formula\n",
    "    nRatings = len(group)\n",
    "\n",
    "    #Get the review scores for the movies that they both have in common\n",
    "    temp_df = inputBooks[inputBooks['ISBN'].isin(group['ISBN'].tolist())]\n",
    "\n",
    "    #And then store them in a temporary buffer variable in a list format to facilitate future calculations\n",
    "    tempRatingList = temp_df['Book-Rating'].tolist()\n",
    "   \n",
    "    #Let's also put the current user group reviews in a list format\n",
    "    tempGroupList = group['Book-Rating'].tolist()\n",
    "   \n",
    "    \n",
    "    #Now let's calculate the pearson correlation between two users, so called, x and y manually (check the formula from week 7 slide)\n",
    "    Sxx = sum([i**2 for i in tempRatingList]) - pow(sum(tempRatingList),2)/float(nRatings)\n",
    "    Syy = sum([i**2 for i in tempGroupList]) - pow(sum(tempGroupList),2)/float(nRatings)\n",
    "    Sxy = sum( i*j for i, j in zip(tempRatingList, tempGroupList)) - sum(tempRatingList)*sum(tempGroupList)/float(nRatings)\n",
    "\n",
    "    #If the denominator is different than zero, then divide, else, 0 correlation.\n",
    "    if Sxx != 0 and Syy != 0:\n",
    "        pearsonCorrelationDict[name] = Sxy/sqrt(Sxx*Syy)\n",
    "    else:\n",
    "        pearsonCorrelationDict[name] = 0\n",
    "    "
   ]
  },
  {
   "cell_type": "code",
   "execution_count": 27,
   "id": "fff2cbdb-5993-4582-a05e-bc2e11ea5f0b",
   "metadata": {},
   "outputs": [
    {
     "data": {
      "text/html": [
       "<div>\n",
       "<style scoped>\n",
       "    .dataframe tbody tr th:only-of-type {\n",
       "        vertical-align: middle;\n",
       "    }\n",
       "\n",
       "    .dataframe tbody tr th {\n",
       "        vertical-align: top;\n",
       "    }\n",
       "\n",
       "    .dataframe thead th {\n",
       "        text-align: right;\n",
       "    }\n",
       "</style>\n",
       "<table border=\"1\" class=\"dataframe\">\n",
       "  <thead>\n",
       "    <tr style=\"text-align: right;\">\n",
       "      <th></th>\n",
       "      <th>similarityIndex</th>\n",
       "      <th>User-ID</th>\n",
       "    </tr>\n",
       "  </thead>\n",
       "  <tbody>\n",
       "    <tr>\n",
       "      <th>0</th>\n",
       "      <td>0.334927</td>\n",
       "      <td>8</td>\n",
       "    </tr>\n",
       "    <tr>\n",
       "      <th>1</th>\n",
       "      <td>0.000000</td>\n",
       "      <td>11676</td>\n",
       "    </tr>\n",
       "    <tr>\n",
       "      <th>2</th>\n",
       "      <td>0.000000</td>\n",
       "      <td>9</td>\n",
       "    </tr>\n",
       "    <tr>\n",
       "      <th>3</th>\n",
       "      <td>0.000000</td>\n",
       "      <td>2954</td>\n",
       "    </tr>\n",
       "    <tr>\n",
       "      <th>4</th>\n",
       "      <td>0.000000</td>\n",
       "      <td>3373</td>\n",
       "    </tr>\n",
       "  </tbody>\n",
       "</table>\n",
       "</div>"
      ],
      "text/plain": [
       "   similarityIndex  User-ID\n",
       "0         0.334927        8\n",
       "1         0.000000    11676\n",
       "2         0.000000        9\n",
       "3         0.000000     2954\n",
       "4         0.000000     3373"
      ]
     },
     "execution_count": 27,
     "metadata": {},
     "output_type": "execute_result"
    }
   ],
   "source": [
    "pearsonDF = pd.DataFrame.from_dict(pearsonCorrelationDict, orient='index')\n",
    "pearsonDF.columns = ['similarityIndex']\n",
    "pearsonDF['User-ID'] = [tup[0] for tup in pearsonDF.index]  # Extract the first element from each tuple\n",
    "pearsonDF.index = range(len(pearsonDF))\n",
    "pearsonDF.head()\n"
   ]
  },
  {
   "cell_type": "code",
   "execution_count": 28,
   "id": "86163cc6-4ffe-43ac-ae7d-05e3f1443373",
   "metadata": {},
   "outputs": [
    {
     "name": "stdout",
     "output_type": "stream",
     "text": [
      "    similarityIndex  User-ID\n",
      "0          0.334927        8\n",
      "73         0.000000   102359\n",
      "72         0.000000   102327\n",
      "71         0.000000   101851\n",
      "70         0.000000   101559\n"
     ]
    }
   ],
   "source": [
    "topUsers=pearsonDF.sort_values(by='similarityIndex', ascending=False)[0:50]\n",
    "print(topUsers.head())"
   ]
  },
  {
   "cell_type": "code",
   "execution_count": 29,
   "id": "aaf29894-5ab2-4b8e-862e-bb9190fdd393",
   "metadata": {},
   "outputs": [
    {
     "name": "stdout",
     "output_type": "stream",
     "text": [
      "    similarityIndex  User-ID        ISBN  Book-Rating\n",
      "0          0.334927        8  0002005018            5\n",
      "1          0.334927        8  0060973129            0\n",
      "2          0.334927        8  0374157065            0\n",
      "3          0.334927        8  0393045218            0\n",
      "4          0.334927        8  0399135782            0\n",
      "..              ...      ...         ...          ...\n",
      "95         0.000000   102359  0670691992            9\n",
      "96         0.000000   102359   067081302           10\n",
      "97         0.000000   102359  0670813648           10\n",
      "98         0.000000   102359  067081458X           10\n",
      "99         0.000000   102359  067082982X           10\n",
      "\n",
      "[100 rows x 4 columns]\n"
     ]
    }
   ],
   "source": [
    "topUsersRating=topUsers.merge(ratings_df, left_on='User-ID', right_on='User-ID', how='inner')\n",
    "print(topUsersRating.head(100))"
   ]
  },
  {
   "cell_type": "code",
   "execution_count": 30,
   "id": "d2b1f4c8-0b6d-4f22-a22f-d315827133f8",
   "metadata": {},
   "outputs": [
    {
     "name": "stdout",
     "output_type": "stream",
     "text": [
      "   similarityIndex  User-ID        ISBN  Book-Rating  weightedRating\n",
      "0         0.334927        8  0002005018            5        1.674637\n",
      "1         0.334927        8  0060973129            0        0.000000\n",
      "2         0.334927        8  0374157065            0        0.000000\n",
      "3         0.334927        8  0393045218            0        0.000000\n",
      "4         0.334927        8  0399135782            0        0.000000\n"
     ]
    }
   ],
   "source": [
    "#Multiplies the similarity by the user’s ratings\n",
    "topUsersRating['weightedRating'] = topUsersRating['similarityIndex']*topUsersRating['Book-Rating']\n",
    "print(topUsersRating.head())"
   ]
  },
  {
   "cell_type": "code",
   "execution_count": 31,
   "id": "a1184ade-4073-465f-959c-42e668defb8f",
   "metadata": {},
   "outputs": [
    {
     "name": "stdout",
     "output_type": "stream",
     "text": [
      "            sum_similarityIndex  sum_weightedRating\n",
      "ISBN                                               \n",
      "0002000288             0.000000            0.000000\n",
      "0002005018             0.334927            1.674637\n",
      "0002172739             0.000000            0.000000\n",
      "0002215497             0.000000            0.000000\n",
      "0002219808             0.000000            0.000000\n"
     ]
    }
   ],
   "source": [
    "#Applies a sum to the topUsers after grouping it up by ISBN\n",
    "tempTopUsersRating = topUsersRating.groupby('ISBN').sum()[['similarityIndex','weightedRating']]\n",
    "tempTopUsersRating.columns = ['sum_similarityIndex','sum_weightedRating']\n",
    "print(tempTopUsersRating.head())"
   ]
  },
  {
   "cell_type": "code",
   "execution_count": 32,
   "id": "ab54b5c8-3dee-4b0f-9098-ddf5dd4d7695",
   "metadata": {},
   "outputs": [
    {
     "name": "stdout",
     "output_type": "stream",
     "text": [
      "            weighted average recommendation score        ISBN\n",
      "ISBN                                                         \n",
      "0002000288                                    0.0  0002000288\n",
      "0002005018                                    5.0  0002005018\n",
      "0002172739                                    0.0  0002172739\n",
      "0002215497                                    0.0  0002215497\n",
      "0002219808                                    0.0  0002219808\n",
      "0002224682                                    0.0  0002224682\n",
      "0002244098                                    0.0  0002244098\n",
      "000225056X                                    0.0  000225056X\n",
      "0002255006                                    0.0  0002255006\n",
      "0002255243                                    0.0  0002255243\n"
     ]
    }
   ],
   "source": [
    "recommendation_df = pd.DataFrame()\n",
    "\n",
    "# Now we take the weighted average\n",
    "recommendation_df['weighted average recommendation score'] = tempTopUsersRating['sum_weightedRating'] / tempTopUsersRating['sum_similarityIndex']\n",
    "recommendation_df['ISBN'] = tempTopUsersRating.index\n",
    "\n",
    "# Handle division by zero\n",
    "recommendation_df['weighted average recommendation score'].replace([np.inf, -np.inf], np.nan, inplace=True)\n",
    "recommendation_df['weighted average recommendation score'].fillna(0, inplace=True)\n",
    "\n",
    "print(recommendation_df.head(10))\n"
   ]
  },
  {
   "cell_type": "code",
   "execution_count": 33,
   "id": "ca8a8873-4aac-49dd-9ee8-69f5bba91620",
   "metadata": {},
   "outputs": [
    {
     "name": "stdout",
     "output_type": "stream",
     "text": [
      "            weighted average recommendation score        ISBN\n",
      "ISBN                                                         \n",
      "1881320189                                    7.0  1881320189\n",
      "1575663937                                    6.0  1575663937\n",
      "1567407781                                    6.0  1567407781\n",
      "0887841740                                    5.0  0887841740\n",
      "074322678X                                    5.0  074322678X\n"
     ]
    }
   ],
   "source": [
    "recommendation_df = recommendation_df.sort_values(by='weighted average recommendation score', ascending=False)\n",
    "print(recommendation_df.head())\n"
   ]
  },
  {
   "cell_type": "code",
   "execution_count": 34,
   "id": "77c1f26d-9026-4fae-abb7-3ccea4ed8610",
   "metadata": {},
   "outputs": [
    {
     "data": {
      "text/html": [
       "<div>\n",
       "<style scoped>\n",
       "    .dataframe tbody tr th:only-of-type {\n",
       "        vertical-align: middle;\n",
       "    }\n",
       "\n",
       "    .dataframe tbody tr th {\n",
       "        vertical-align: top;\n",
       "    }\n",
       "\n",
       "    .dataframe thead th {\n",
       "        text-align: right;\n",
       "    }\n",
       "</style>\n",
       "<table border=\"1\" class=\"dataframe\">\n",
       "  <thead>\n",
       "    <tr style=\"text-align: right;\">\n",
       "      <th></th>\n",
       "      <th>ISBN</th>\n",
       "      <th>Book-Title</th>\n",
       "      <th>Year-Of-Publication</th>\n",
       "    </tr>\n",
       "  </thead>\n",
       "  <tbody>\n",
       "    <tr>\n",
       "      <th>1</th>\n",
       "      <td>0002005018</td>\n",
       "      <td>Clara Callan</td>\n",
       "      <td>2001</td>\n",
       "    </tr>\n",
       "    <tr>\n",
       "      <th>3</th>\n",
       "      <td>0374157065</td>\n",
       "      <td>Flu: The Story of the Great Influenza Pandemic...</td>\n",
       "      <td>1999</td>\n",
       "    </tr>\n",
       "    <tr>\n",
       "      <th>4</th>\n",
       "      <td>0393045218</td>\n",
       "      <td>The Mummies of Urumchi</td>\n",
       "      <td>1999</td>\n",
       "    </tr>\n",
       "    <tr>\n",
       "      <th>5</th>\n",
       "      <td>0399135782</td>\n",
       "      <td>The Kitchen God's Wife</td>\n",
       "      <td>1991</td>\n",
       "    </tr>\n",
       "    <tr>\n",
       "      <th>6</th>\n",
       "      <td>0425176428</td>\n",
       "      <td>What If?: The World's Foremost Military Histor...</td>\n",
       "      <td>2000</td>\n",
       "    </tr>\n",
       "  </tbody>\n",
       "</table>\n",
       "</div>"
      ],
      "text/plain": [
       "         ISBN                                         Book-Title  \\\n",
       "1  0002005018                                       Clara Callan   \n",
       "3  0374157065  Flu: The Story of the Great Influenza Pandemic...   \n",
       "4  0393045218                             The Mummies of Urumchi   \n",
       "5  0399135782                             The Kitchen God's Wife   \n",
       "6  0425176428  What If?: The World's Foremost Military Histor...   \n",
       "\n",
       "  Year-Of-Publication  \n",
       "1                2001  \n",
       "3                1999  \n",
       "4                1999  \n",
       "5                1991  \n",
       "6                2000  "
      ]
     },
     "execution_count": 34,
     "metadata": {},
     "output_type": "execute_result"
    }
   ],
   "source": [
    "recommended_book=book_df.loc[book_df['ISBN'].isin(recommendation_df['ISBN'])]\n",
    "recommended_book=recommended_book.loc[~recommended_book.ISBN.isin(userSubset['ISBN'])]\n",
    "recommended_book.head()"
   ]
  }
 ],
 "metadata": {
  "kernelspec": {
   "display_name": "Python 3 (ipykernel)",
   "language": "python",
   "name": "python3"
  },
  "language_info": {
   "codemirror_mode": {
    "name": "ipython",
    "version": 3
   },
   "file_extension": ".py",
   "mimetype": "text/x-python",
   "name": "python",
   "nbconvert_exporter": "python",
   "pygments_lexer": "ipython3",
   "version": "3.11.2"
  }
 },
 "nbformat": 4,
 "nbformat_minor": 5
}
